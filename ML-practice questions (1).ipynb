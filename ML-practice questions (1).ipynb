{
 "cells": [
  {
   "cell_type": "code",
   "execution_count": 3,
   "metadata": {
    "colab": {
     "base_uri": "https://localhost:8080/"
    },
    "executionInfo": {
     "elapsed": 601,
     "status": "ok",
     "timestamp": 1759158122631,
     "user": {
      "displayName": "Manu Akash",
      "userId": "08617479236498757223"
     },
     "user_tz": -330
    },
    "id": "PYHW_Pwq_oMJ",
    "outputId": "e0b58a03-9432-4cac-881c-f16de131adb1"
   },
   "outputs": [
    {
     "name": "stdout",
     "output_type": "stream",
     "text": [
      "First 5 rows of the dataset:\n",
      "      x     y\n",
      "0  0.01  0.12\n",
      "1  0.13  0.75\n",
      "2  0.18  0.95\n",
      "3  0.26  0.81\n",
      "4  0.35  0.55\n",
      "\n",
      "Dataset Info:\n",
      "<class 'pandas.core.frame.DataFrame'>\n",
      "RangeIndex: 13 entries, 0 to 12\n",
      "Data columns (total 2 columns):\n",
      " #   Column  Non-Null Count  Dtype  \n",
      "---  ------  --------------  -----  \n",
      " 0   x       13 non-null     float64\n",
      " 1   y       13 non-null     float64\n",
      "dtypes: float64(2)\n",
      "memory usage: 340.0 bytes\n",
      "None\n",
      "\n",
      "Summary Statistics:\n",
      "               x          y\n",
      "count  13.000000  13.000000\n",
      "mean    0.503077  -0.007692\n",
      "std     0.307500   0.668146\n",
      "min     0.010000  -0.980000\n",
      "25%     0.260000  -0.580000\n",
      "50%     0.520000  -0.100000\n",
      "75%     0.750000   0.550000\n",
      "max     0.950000   0.950000\n"
     ]
    }
   ],
   "source": [
    "\n",
    "# Program to create, save, load, and view a dataset\n",
    "import pandas as pd\n",
    "\n",
    "data = {\n",
    "    \"x\": [0.01, 0.13, 0.18, 0.26, 0.35, 0.40, 0.52, 0.60, 0.67, 0.75, 0.83, 0.89, 0.95],\n",
    "    \"y\": [0.12, 0.75, 0.95, 0.81, 0.55, 0.45, -0.15, -0.58, -0.90, -0.98, -0.68, -0.34, -0.10]\n",
    "}\n",
    "\n",
    "df = pd.DataFrame(data)\n",
    "df.to_csv(\"sine_data.csv\", index=False)\n",
    "\n",
    "df = pd.read_csv(\"sine_data.csv\")\n",
    "\n",
    "print(\"First 5 rows of the dataset:\")\n",
    "print(df.head())\n",
    "\n",
    "print(\"\\nDataset Info:\")\n",
    "print(df.info())\n",
    "\n",
    "print(\"\\nSummary Statistics:\")\n",
    "print(df.describe())\n",
    "\n"
   ]
  },
  {
   "cell_type": "code",
   "execution_count": 4,
   "metadata": {
    "colab": {
     "base_uri": "https://localhost:8080/"
    },
    "executionInfo": {
     "elapsed": 49,
     "status": "ok",
     "timestamp": 1759158308056,
     "user": {
      "displayName": "Manu Akash",
      "userId": "08617479236498757223"
     },
     "user_tz": -330
    },
    "id": "4AHU2tQCAWMU",
    "outputId": "e0844bca-1e3b-4da3-c064-6e14cf8aa156"
   },
   "outputs": [
    {
     "name": "stdout",
     "output_type": "stream",
     "text": [
      "Summary (first 5 rows):\n",
      "      x     y\n",
      "0  0.01  0.12\n",
      "1  0.13  0.75\n",
      "2  0.18  0.95\n",
      "3  0.26  0.81\n",
      "4  0.35  0.55\n",
      "\n",
      "Dataset Info:\n",
      "<class 'pandas.core.frame.DataFrame'>\n",
      "RangeIndex: 13 entries, 0 to 12\n",
      "Data columns (total 2 columns):\n",
      " #   Column  Non-Null Count  Dtype  \n",
      "---  ------  --------------  -----  \n",
      " 0   x       13 non-null     float64\n",
      " 1   y       13 non-null     float64\n",
      "dtypes: float64(2)\n",
      "memory usage: 340.0 bytes\n",
      "None\n",
      "\n",
      "Summary Statistics:\n",
      "               x          y\n",
      "count  13.000000  13.000000\n",
      "mean    0.503077  -0.007692\n",
      "std     0.307500   0.668146\n",
      "min     0.010000  -0.980000\n",
      "25%     0.260000  -0.580000\n",
      "50%     0.520000  -0.100000\n",
      "75%     0.750000   0.550000\n",
      "max     0.950000   0.950000\n"
     ]
    }
   ],
   "source": [
    "\n",
    "# Program to display summary and statistics of a dataset\n",
    "import pandas as pd\n",
    "\n",
    "df = pd.read_csv(\"sine_data.csv\")\n",
    "\n",
    "print(\"Summary (first 5 rows):\")\n",
    "print(df.head())\n",
    "\n",
    "print(\"\\nDataset Info:\")\n",
    "print(df.info())\n",
    "\n",
    "print(\"\\nSummary Statistics:\")\n",
    "print(df.describe())\n"
   ]
  },
  {
   "cell_type": "code",
   "execution_count": 5,
   "metadata": {
    "colab": {
     "base_uri": "https://localhost:8080/"
    },
    "executionInfo": {
     "elapsed": 3900,
     "status": "ok",
     "timestamp": 1759158484782,
     "user": {
      "displayName": "Manu Akash",
      "userId": "08617479236498757223"
     },
     "user_tz": -330
    },
    "id": "R-lAm_nSBApR",
    "outputId": "c2aa0123-33b3-4b85-f996-9335424d77e0"
   },
   "outputs": [
    {
     "name": "stdout",
     "output_type": "stream",
     "text": [
      "Actual values:\n",
      "[-0.34 -0.98  0.12]\n",
      "\n",
      "Predicted values:\n",
      "[-0.70199414 -0.41850491  1.07993813]\n"
     ]
    }
   ],
   "source": [
    "\n",
    "# Program to implement Linear Regression for prediction\n",
    "import pandas as pd\n",
    "from sklearn.model_selection import train_test_split\n",
    "from sklearn.linear_model import LinearRegression\n",
    "\n",
    "df = pd.read_csv(\"sine_data.csv\")\n",
    "\n",
    "X = df[['x']]\n",
    "y = df['y']\n",
    "\n",
    "X_train, X_test, y_train, y_test = train_test_split(X, y, test_size=0.2, random_state=42)\n",
    "\n",
    "model = LinearRegression()\n",
    "model.fit(X_train, y_train)\n",
    "\n",
    "y_pred = model.predict(X_test)\n",
    "\n",
    "print(\"Actual values:\")\n",
    "print(y_test.values)\n",
    "\n",
    "print(\"\\nPredicted values:\")\n",
    "print(y_pred)\n",
    "\n"
   ]
  },
  {
   "cell_type": "code",
   "execution_count": 6,
   "metadata": {
    "colab": {
     "base_uri": "https://localhost:8080/"
    },
    "executionInfo": {
     "elapsed": 205,
     "status": "ok",
     "timestamp": 1759158597450,
     "user": {
      "displayName": "Manu Akash",
      "userId": "08617479236498757223"
     },
     "user_tz": -330
    },
    "id": "_StPIphmBc8q",
    "outputId": "13db5a4c-2e22-4e00-f9e1-69b3af960513"
   },
   "outputs": [
    {
     "name": "stdout",
     "output_type": "stream",
     "text": [
      "Logistic Regression Results\n",
      "Accuracy: 1.0\n",
      "              precision    recall  f1-score   support\n",
      "\n",
      "           0       1.00      1.00      1.00         2\n",
      "           1       1.00      1.00      1.00         1\n",
      "\n",
      "    accuracy                           1.00         3\n",
      "   macro avg       1.00      1.00      1.00         3\n",
      "weighted avg       1.00      1.00      1.00         3\n",
      "\n",
      "\n",
      "SVM Results\n",
      "Accuracy: 1.0\n",
      "              precision    recall  f1-score   support\n",
      "\n",
      "           0       1.00      1.00      1.00         2\n",
      "           1       1.00      1.00      1.00         1\n",
      "\n",
      "    accuracy                           1.00         3\n",
      "   macro avg       1.00      1.00      1.00         3\n",
      "weighted avg       1.00      1.00      1.00         3\n",
      "\n"
     ]
    }
   ],
   "source": [
    "\n",
    "# Program to implement Logistic Regression and SVM for classification\n",
    "import pandas as pd\n",
    "from sklearn.model_selection import train_test_split\n",
    "from sklearn.linear_model import LogisticRegression\n",
    "from sklearn.svm import SVC\n",
    "from sklearn.metrics import accuracy_score, classification_report\n",
    "\n",
    "df = pd.read_csv(\"sine_data.csv\")\n",
    "\n",
    "df['label'] = (df['y'] > 0).astype(int)\n",
    "\n",
    "X = df[['x']]\n",
    "y = df['label']\n",
    "\n",
    "X_train, X_test, y_train, y_test = train_test_split(X, y, test_size=0.2, random_state=42)\n",
    "\n",
    "# Logistic Regression\n",
    "log_model = LogisticRegression()\n",
    "log_model.fit(X_train, y_train)\n",
    "y_pred_log = log_model.predict(X_test)\n",
    "\n",
    "print(\"Logistic Regression Results\")\n",
    "print(\"Accuracy:\", accuracy_score(y_test, y_pred_log))\n",
    "print(classification_report(y_test, y_pred_log))\n",
    "\n",
    "# SVM\n",
    "svm_model = SVC(kernel='linear')\n",
    "svm_model.fit(X_train, y_train)\n",
    "y_pred_svm = svm_model.predict(X_test)\n",
    "\n",
    "print(\"\\nSVM Results\")\n",
    "print(\"Accuracy:\", accuracy_score(y_test, y_pred_svm))\n",
    "print(classification_report(y_test, y_pred_svm))\n",
    "\n"
   ]
  }
 ],
 "metadata": {
  "colab": {
   "authorship_tag": "ABX9TyN437PIi5cPm5IlelJC5eLm",
   "provenance": []
  },
  "kernelspec": {
   "display_name": "Python 3",
   "name": "python3"
  },
  "language_info": {
   "name": "python"
  }
 },
 "nbformat": 4,
 "nbformat_minor": 0
}
